{
 "cells": [
  {
   "cell_type": "code",
   "execution_count": 3,
   "metadata": {
    "collapsed": true
   },
   "outputs": [],
   "source": [
    "import numpy as  np"
   ]
  },
  {
   "cell_type": "code",
   "execution_count": 4,
   "metadata": {},
   "outputs": [
    {
     "name": "stdout",
     "output_type": "stream",
     "text": [
      "111\n",
      "331\n"
     ]
    }
   ],
   "source": [
    "data1 = np.loadtxt(\"C:\\\\Users\\\\PRERNA PRERIT\\\\Desktop\\\\ML\\\\linear_regression\\\\0000000000002329_test_diabetes_x_test.csv\", delimiter = \",\")\n",
    "data2 = np.loadtxt(\"C:\\\\Users\\\\PRERNA PRERIT\\\\Desktop\\\\ML\\\\linear_regression\\\\0000000000002329_training_diabetes_x_y_train.csv\", delimiter = \",\")\n",
    "print(len(data1))\n",
    "print(len(data2))"
   ]
  },
  {
   "cell_type": "code",
   "execution_count": 8,
   "metadata": {},
   "outputs": [
    {
     "name": "stdout",
     "output_type": "stream",
     "text": [
      "[[-0.04910502 -0.04464164  0.16085492 ...,  0.03430886  0.02801651\n",
      "   0.01134862]\n",
      " [-0.07090025  0.05068012 -0.08919748 ..., -0.00259226 -0.01290794\n",
      "  -0.05492509]\n",
      " [ 0.00175052 -0.04464164 -0.07087468 ..., -0.03949338 -0.02251217\n",
      "   0.00720652]\n",
      " ..., \n",
      " [ 0.02354575 -0.04464164  0.0703187  ..., -0.00259226 -0.01919705\n",
      "  -0.00936191]\n",
      " [ 0.01628068  0.05068012  0.07247433 ..., -0.00259226 -0.02364456\n",
      "   0.06105391]\n",
      " [-0.00914709  0.05068012 -0.03099563 ..., -0.00259226  0.00620932\n",
      "   0.02791705]]\n",
      "[ 346.  104.   49.  180.  110.   72.   68.  216.   47.  296.   65.   96.\n",
      "   67.   52.  100.  202.  128.   63.  281.  152.  124.  245.  101.  113.\n",
      "   48.  197.  186.  132.  245.   91.   43.  101.  111.  199.  220.  281.\n",
      "  217.   93.  174.  150.  206.   61.   55.  118.   53.  275.  215.  142.\n",
      "   90.   65.  200.   96.  249.  200.  155.  170.  141.  179.  225.   61.\n",
      "  103.  131.  158.  275.  246.   97.  302.   91.  178.   51.  170.  104.\n",
      "  168.  257.  182.   71.  220.  241.  192.  220.  220.  141.   89.  144.\n",
      "  150.  135.  200.   39.   25.  185.   52.   92.   63.  152.   69.   68.\n",
      "  274.  279.  236.  168.  143.  135.  123.  277.   60.   72.   72.  109.\n",
      "   86.   92.   99.   48.  170.  283.  129.   75.  270.  272.   31.  262.\n",
      "  232.  191.  140.  233.  196.  263.   88.   84.  137.  128.   78.  140.\n",
      "  252.   55.  104.  235.   37.  122.   72.  144.  138.  253.   90.   53.\n",
      "  198.  145.   73.  252.   77.  295.  243.   83.  212.  185.  126.   68.\n",
      "  210.  107.  200.   69.   98.  242.  163.  172.   40.  109.   39.  202.\n",
      "  131.  261.   71.  200.   60.  198.  198.  107.  252.  144.  108.   64.\n",
      "   83.   67.  146.   84.   96.  270.   80.  182.  214.  127.  143.  222.\n",
      "   50.   85.  115.  243.  281.  258.  114.   57.   94.  136.   88.  178.\n",
      "   94.   81.   42.  102.  139.   74.   69.  308.  200.  242.  158.  174.\n",
      "   66.   78.  127.  132.  201.  178.  202.   66.  248.  237.  120.  111.\n",
      "   99.   96.  180.  341.  219.  131.  141.   89.   59.  147.   44.  336.\n",
      "   47.  272.  317.  161.   64.   78.  111.  208.  190.  244.  246.   48.\n",
      "  275.  182.  248.   59.  178.  113.  109.  142.   59.  110.  128.   95.\n",
      "   65.  115.  276.   85.  183.   58.   71.  162.  225.  306.  137.   85.\n",
      "   77.   72.  166.  310.   79.  195.  321.  160.  283.   75.  167.  191.\n",
      "   71.  297.  185.  134.  233.  151.   83.  258.   54.   55.  189.   70.\n",
      "  310.  181.  172.  235.  275.  259.   88.   74.   91.  104.  173.  179.\n",
      "  148.  168.  124.  164.  214.  263.   52.   52.  160.   88.   94.  109.\n",
      "   53.  265.  233.   63.  288.  131.   42.]\n",
      "[[ 0.02354575  0.05068012 -0.0374625  ..., -0.03949338 -0.03075121\n",
      "  -0.01350402]\n",
      " [-0.07816532 -0.04464164 -0.0730303  ..., -0.03949338 -0.01811827\n",
      "  -0.08391984]\n",
      " [-0.03094232  0.05068012  0.00133873 ...,  0.1081111   0.08379677\n",
      "   0.00306441]\n",
      " ..., \n",
      " [ 0.0090156  -0.04464164 -0.01267283 ...,  0.03430886  0.02337484\n",
      "  -0.0052198 ]\n",
      " [ 0.01991321 -0.04464164 -0.03422907 ...,  0.03283281  0.02472532\n",
      "   0.06933812]\n",
      " [ 0.01628068  0.05068012  0.00996123 ..., -0.03949338  0.01703713\n",
      "   0.00720652]]\n"
     ]
    }
   ],
   "source": [
    "X_train = data2[:,0:10]\n",
    "Y_train = data2[: ,10]\n",
    "X_test = data1[:,:]\n",
    "\n",
    "print(X_train)\n",
    "print(Y_train)\n",
    "print(X_test)"
   ]
  },
  {
   "cell_type": "code",
   "execution_count": 10,
   "metadata": {},
   "outputs": [
    {
     "name": "stdout",
     "output_type": "stream",
     "text": [
      "(331, 10)\n",
      "(331,)\n",
      "(111, 10)\n"
     ]
    }
   ],
   "source": [
    "print(X_train.shape)\n",
    "print(Y_train.shape)\n",
    "print(X_test.shape)"
   ]
  },
  {
   "cell_type": "code",
   "execution_count": 11,
   "metadata": {
    "collapsed": true
   },
   "outputs": [],
   "source": [
    "from sklearn import model_selection"
   ]
  },
  {
   "cell_type": "code",
   "execution_count": 12,
   "metadata": {
    "collapsed": true
   },
   "outputs": [],
   "source": [
    "from sklearn.linear_model import LinearRegression"
   ]
  },
  {
   "cell_type": "code",
   "execution_count": 13,
   "metadata": {},
   "outputs": [
    {
     "data": {
      "text/plain": [
       "LinearRegression(copy_X=True, fit_intercept=True, n_jobs=1, normalize=False)"
      ]
     },
     "execution_count": 13,
     "metadata": {},
     "output_type": "execute_result"
    }
   ],
   "source": [
    "alg1 = LinearRegression()\n",
    "alg1.fit(X_train, Y_train)\n"
   ]
  },
  {
   "cell_type": "code",
   "execution_count": 14,
   "metadata": {
    "collapsed": true
   },
   "outputs": [],
   "source": [
    "y_pred = alg1.predict(X_test)"
   ]
  },
  {
   "cell_type": "code",
   "execution_count": 15,
   "metadata": {},
   "outputs": [
    {
     "name": "stdout",
     "output_type": "stream",
     "text": [
      "Coefficient:  [  21.73408096 -256.66866675  569.60940087  303.63233545 -833.11088526\n",
      "  525.74313633  136.07129167  140.89458927  731.44498492   53.32119133]\n"
     ]
    }
   ],
   "source": [
    "print(\"Coefficient: \", alg1.coef_)"
   ]
  },
  {
   "cell_type": "code",
   "execution_count": 16,
   "metadata": {
    "collapsed": true
   },
   "outputs": [],
   "source": [
    "np.savetxt(\"C:\\\\Users\\\\PRERNA PRERIT\\\\Desktop\\\\ML\\\\linear_regression\\\\ans1.csv\", y_pred , fmt=\"%1.5f\", delimiter=\",\")"
   ]
  },
  {
   "cell_type": "code",
   "execution_count": null,
   "metadata": {
    "collapsed": true
   },
   "outputs": [],
   "source": []
  }
 ],
 "metadata": {
  "kernelspec": {
   "display_name": "Python 3",
   "language": "python",
   "name": "python3"
  },
  "language_info": {
   "codemirror_mode": {
    "name": "ipython",
    "version": 3
   },
   "file_extension": ".py",
   "mimetype": "text/x-python",
   "name": "python",
   "nbconvert_exporter": "python",
   "pygments_lexer": "ipython3",
   "version": "3.6.3"
  }
 },
 "nbformat": 4,
 "nbformat_minor": 2
}
